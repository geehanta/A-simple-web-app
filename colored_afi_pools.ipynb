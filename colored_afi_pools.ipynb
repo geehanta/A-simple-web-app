{
  "nbformat": 4,
  "nbformat_minor": 0,
  "metadata": {
    "colab": {
      "provenance": [],
      "authorship_tag": "ABX9TyMxM3jRpErvpA38KL1oA45P",
      "include_colab_link": true
    },
    "kernelspec": {
      "name": "python3",
      "display_name": "Python 3"
    },
    "language_info": {
      "name": "python"
    }
  },
  "cells": [
    {
      "cell_type": "markdown",
      "metadata": {
        "id": "view-in-github",
        "colab_type": "text"
      },
      "source": [
        "<a href=\"https://colab.research.google.com/github/geehanta/A-simple-web-app/blob/main/colored_afi_pools.ipynb\" target=\"_parent\"><img src=\"https://colab.research.google.com/assets/colab-badge.svg\" alt=\"Open In Colab\"/></a>"
      ]
    },
    {
      "cell_type": "code",
      "execution_count": 1,
      "metadata": {
        "id": "SIbyHACZSq9k"
      },
      "outputs": [],
      "source": [
        "import pandas as pd\n",
        "from openpyxl import load_workbook\n",
        "from openpyxl.styles import PatternFill\n"
      ]
    },
    {
      "cell_type": "code",
      "source": [
        "# Read Excel data into a DataFrame\n",
        "df = pd.read_excel('AFI-POOLER.xlsx')\n"
      ],
      "metadata": {
        "id": "F5tzvxc-TMrZ"
      },
      "execution_count": 2,
      "outputs": []
    },
    {
      "cell_type": "code",
      "source": [
        "# Sort DataFrame by 'Site' and 'Epi-week'\n",
        "df.sort_values(by=['Site', 'Epi-week'], inplace=True)\n"
      ],
      "metadata": {
        "id": "C4KL-PEfTQFS"
      },
      "execution_count": 3,
      "outputs": []
    },
    {
      "cell_type": "code",
      "source": [
        "# Initialize variables\n",
        "current_pool = 0\n",
        "rows_in_pool = 0\n",
        "current_site = ''\n",
        "current_epiweek = ''"
      ],
      "metadata": {
        "id": "YdGrQRgwTTmx"
      },
      "execution_count": 4,
      "outputs": []
    },
    {
      "cell_type": "code",
      "source": [
        "# Function to assign pool name based on criteria\n",
        "def assign_pool_name(row):\n",
        "    global current_pool, rows_in_pool, current_site, current_epiweek\n",
        "    if row['Site'] != current_site or row['Epi-week'] != current_epiweek or rows_in_pool >= 5:\n",
        "        current_site = row['Site']\n",
        "        current_epiweek = row['Epi-week']\n",
        "        current_pool += 1\n",
        "        rows_in_pool = 0\n",
        "    rows_in_pool += 1\n",
        "    return f\"{current_site} Pool {current_pool}\""
      ],
      "metadata": {
        "id": "m8obAB-MTY5s"
      },
      "execution_count": 5,
      "outputs": []
    },
    {
      "cell_type": "code",
      "source": [
        "# Add 'Pool' column to DataFrame\n",
        "df['Pool-with-site'] = df.apply(assign_pool_name, axis=1)\n"
      ],
      "metadata": {
        "id": "Fw9fjsefTfbT"
      },
      "execution_count": 6,
      "outputs": []
    },
    {
      "cell_type": "code",
      "source": [
        "# Save the modified DataFrame to Excel\n",
        "df.to_excel('POOLS.xlsx', index=False)"
      ],
      "metadata": {
        "id": "pUcIpbBFTiIz"
      },
      "execution_count": 7,
      "outputs": []
    },
    {
      "cell_type": "code",
      "source": [
        "# Load the workbook and select the active worksheet\n",
        "wb = load_workbook('POOLS.xlsx')\n",
        "ws = wb.active\n"
      ],
      "metadata": {
        "id": "SeFe4AuFT1SG"
      },
      "execution_count": 8,
      "outputs": []
    },
    {
      "cell_type": "code",
      "source": [
        "# Define a list of colors for different pools\n",
        "colors = ['FFFFFF', '999999']\n"
      ],
      "metadata": {
        "id": "AKVF3V4RT3rm"
      },
      "execution_count": 9,
      "outputs": []
    },
    {
      "cell_type": "code",
      "source": [
        "# Apply background colors to each pool\n",
        "for row in ws.iter_rows(min_row=2, max_row=ws.max_row, min_col=1, max_col=ws.max_column):\n",
        "    pool_name = row[-1].value  # Assuming 'Pool-with-site' is the last column\n",
        "    pool_number = int(pool_name.split()[-1])\n",
        "    fill_color = PatternFill(start_color=colors[pool_number % len(colors)], end_color=colors[pool_number % len(colors)], fill_type='solid')\n",
        "    for cell in row:\n",
        "        cell.fill = fill_color"
      ],
      "metadata": {
        "id": "MGJB-hPNT6re"
      },
      "execution_count": 10,
      "outputs": []
    },
    {
      "cell_type": "code",
      "source": [
        "# Save the workbook\n",
        "wb.save('OCTOBER-FIRST-BATCH-POOLS.xlsx')"
      ],
      "metadata": {
        "id": "0z5CANUIT_9u"
      },
      "execution_count": 11,
      "outputs": []
    }
  ]
}